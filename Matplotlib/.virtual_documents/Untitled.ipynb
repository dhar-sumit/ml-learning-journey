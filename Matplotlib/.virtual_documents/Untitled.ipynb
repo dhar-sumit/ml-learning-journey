import numpy as np
import pandas as pd
import matplotlib.pyplot as plt


df = pd.read_csv('gas_prices.csv')
df.head()


df.isnull().sum()


df['Australia'].sum()



