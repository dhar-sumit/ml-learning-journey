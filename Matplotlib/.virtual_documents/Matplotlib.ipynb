import pandas as pd
import numpy as np
import matplotlib.pyplot as plt





x = np.arange(0, 10, 0.1)
y = np.cos(x)

plt.figure(figsize=(20,4))
# plt.plot(x, y, label='cos(x)', color='red', linewidth=3, marker='.', markersize=8,  markeredgecolor='black',)
# FMT = [color][marker][line]
plt.plot(x, y, 'k^-',label='cos(x)',linewidth=3, markersize=7,  markeredgecolor='black', markerfacecolor='white')
plt.title('Cosine  Graph', fontdict={'fontname': 'Comic Sans MS', 'fontsize': 20})
plt.xlabel('Angle (radians)', fontdict={'fontname': 'Comic Sans MS', 'fontsize': 15})
plt.ylabel('cos(x)', fontdict={'fontname': 'Comic Sans MS', 'fontsize': 15})
plt.legend()
plt.grid(True)
plt.show()


# Square graph plotting
x = np.arange(0, 8, 0.5)
y = x**2
plt.figure(figsize=(5,3), dpi=150)
plt.plot(x[:-2], y[:-2], 'bs-', markerfacecolor='red', label='X^2')
plt.plot(x[-3:], y[-3:], 'bs--', markerfacecolor='red')
plt.title('Square Function Plot', fontdict={'fontname': 'Comic Sans MS', 'fontsize': 15})
plt.xlabel('<----   x values   ---->', fontdict={'fontname': 'Comic Sans MS', 'fontsize': 10})
plt.ylabel('<----   x^2 values   ---->', fontdict={'fontname': 'Comic Sans MS', 'fontsize': 10})
plt.legend()
plt.grid(True)
plt.savefig('Square Function.png', dpi=300) # must be done before show
plt.show()





labels = ['A', 'B', 'C', 'D', 'E']
values = [1, 4, 2, 3, 5]

plt.figure(figsize=(5,3), dpi=150)
bars = plt.bar(labels, values, color='skyblue', edgecolor='black')
pat = ['/', '.', 'o']
for i in range(len(bars)):
    bars[i].set_hatch(pat[i%len(pat)])
    
plt.title('Bar Chart', fontdict={'fontname': 'Comic Sans MS', 'fontsize': 15})
plt.xlabel('Labels', fontdict={'fontname': 'Comic Sans MS', 'fontsize': 10})
plt.ylabel('Values', fontdict={'fontname': 'Comic Sans MS', 'fontsize': 10})
plt.show()
