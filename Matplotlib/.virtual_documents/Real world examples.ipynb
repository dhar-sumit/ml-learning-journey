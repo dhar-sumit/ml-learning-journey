import numpy as np
import pandas as pd
import matplotlib.pyplot as plt
import seaborn as sns


# Gas Prices
df = pd.read_csv('gas_prices.csv')
df.head()


df.isnull().sum()


df.fillna(df.mean(numeric_only=True), inplace=True)


df.isnull().any()


n = len(df.columns[1:])  # number of distinct colors
colors = sns.color_palette("hsv", n)  # or try "tab10", "husl", "Set2", etc.

plt.figure(figsize=(15,8))

for idx, con in enumerate(df.columns[1:]):
    color = colors[idx]
    plt.plot(df['Year'][:-2], df[con][:-2], 'o-',color=color, markeredgecolor='black', label=con)
    plt.plot(df['Year'][-3:], df[con][-3:], 'o--',color=color, markeredgecolor='black')

plt.title('Gas Prices over the Years', fontdict={'fontname': 'Comic Sans MS', 'fontsize':20})
plt.xlabel('Years', fontdict={'fontname': 'Comic Sans MS', 'fontsize':15})
plt.ylabel('Prices in $', fontdict={'fontname': 'Comic Sans MS', 'fontsize':15})
plt.xticks(df['Year'][::2])
plt.legend()
plt.grid(True, linestyle='--', alpha=0.5)
plt.savefig('Gas Prices.png', dpi=600)
plt.show()



