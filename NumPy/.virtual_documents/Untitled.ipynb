# List
a = [1, 2, 3]
print(a)


# Numpy
import numpy as np
a = np.array([1, 2, 3])
b = np.array([[1, 2, 3], [4, 5, 6]])
print(a)
print(b)


# Get dimension
print(a, f'Dimension: {a.ndim}')
print(b, f'Dimension: {b.ndim}')


# Get shapes
print(a, f'Shapes: {a.shape}')
print(b, f'Shapes: {b.shape}')


# Get type
print(a.dtype)
a = np.array(a, dtype='int8')
a.dtype


# Get size
print(a.itemsize)
print(b.itemsize)


# Get total size: size*itemsize
b.nbytes



