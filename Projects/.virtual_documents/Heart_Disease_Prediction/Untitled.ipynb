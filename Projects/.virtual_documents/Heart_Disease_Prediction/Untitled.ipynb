import pandas as pd


# Reading the dataset

df = pd.read_csv('heart.csv')
df.head()


df.columns


df.describe()


df.info()


df.isnull()



