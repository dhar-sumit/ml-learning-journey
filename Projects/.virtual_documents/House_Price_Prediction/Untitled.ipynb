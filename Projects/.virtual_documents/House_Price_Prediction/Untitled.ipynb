import pandas as pd
import numpy as np
import matplotlib.pyplot as plt
import seaborn as sns
from sklearn.model_selection import train_test_split
from xgboost import XGBRegressor
from sklearn.metrics import accuracy_score


df = pd.read_csv('BostonHousing.csv')
df.head()


# Checking no. of rows and columns 
df.shape


# Checking for missing values
df.isnull().any()


# Statistical measures of the dataset
df.describe()





corr = df.corr()


# Constructing a heatmap to visualize the correlation
plt.figure(figsize=(10,8))
sns.heatmap(data=df)



