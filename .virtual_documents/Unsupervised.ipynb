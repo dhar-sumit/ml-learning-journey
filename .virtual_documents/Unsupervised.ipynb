import pandas as pd
import numpy as np
import matplotlib.pyplot as plt
import seaborn as sns


cols = ['area', 'perimeter', 'compactness', 'length', 'width', 'asymmetry', 'groove', 'class']
df = pd.read_csv('seeds_dataset.txt', sep='\s+', names=cols)
df.head()


for i in range(len(cols)-1):
    for j in range(i+1, len(cols)-1):
        x_label = cols[i]
        y_label = cols[j]
        sns.scatterplot(x=x_label, y=y_label, data=df, hue='class')
        plt.show()





from sklearn.cluster import KMeans


x = 'perimeter'
y = 'asymmetry'
X = df[[x, y]].values


k_means = KMeans(n_clusters=3)
k_means.fit(X)


clusters = k_means.labels_
clusters



