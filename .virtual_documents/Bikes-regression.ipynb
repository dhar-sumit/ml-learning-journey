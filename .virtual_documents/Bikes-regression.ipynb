import pandas as pd
import numpy as np
import matplotlib.pyplot as plt
from sklearn.preprocessing import StandardScaler
from imblearn.over_sampling import RandomOverSampler
import copy
import seaborn as sns
import tensorflow as tf
from sklearn.linear_model import LinearRegression


df = pd.read_csv('SeoulBikeData.csv')
df.head()


# Dropped some columns
df = df.drop(['Date', 'Holiday', 'Seasons'], axis=1)
df.head()


# Changing the column names
columns = ["bike_count", "hour", "temp", "humidity", "wind", "visibility", "dew_pt_temp", "radiation", "rain", "snow", "functional"]
df.columns = columns
df.head()


df['functional'] = (df['functional']=='Yes').astype(int)
df.head()


# Choosing only data having hour as 12
df = df[df['hour']==12]
df = df.drop('hour', axis=1)
df.head()


for label in df.columns[1:]:
    plt.figure(figsize=(6, 4))
    plt.scatter(df[label], df['bike_count'])
    plt.title(f'{label} vs bike_count')
    plt.xlabel(label)
    plt.ylabel('Bike count at noon')
    plt.tight_layout()
    plt.show()


df = df.drop(['wind', 'visibility', 'functional'], axis=1)
df.head()





train, valid, test = np.split(df.sample(frac=1).reset_index(drop=True), [int(0.6*len(df)), int(0.8*len(df))])


# Function to filter it out:
def get_xy(dataframe, y_label, x_labels=None):
    dataframe = copy.deepcopy(dataframe)
    if not x_labels:
        X = dataframe[[c for c in dataframe.columns if c!=y_label]].values
    else:
        if len(x_labels) == 1:
            X = dataframe[x_labels[0]].values.reshape(-1, 1)
        else:
            X = dataframe[x_labels].values
    y = dataframe[y_label].values.reshape(-1, 1)
    data = np.hstack((X, y))

    return data, X, y


_, X_train_temp, y_train_temp = get_xy(train, 'bike_count', x_labels=['temp'])
_, X_valid_temp, y_valid_temp = get_xy(valid, 'bike_count', x_labels=['temp'])
_, X_test_temp, y_test_temp = get_xy(test, 'bike_count', x_labels=['temp'])


temp_reg = LinearRegression()
temp_reg.fit(X_train_temp, y_train_temp)


# y = mx + c
# m -> coef_, c -> intercept, score -> R² (R-squared) metric:
# R² = 1 - (Residual Sum of Squares / Total Sum of Squares)
print(temp_reg.coef_, temp_reg.intercept_)
print(temp_reg.score(X_test_temp, y_test_temp))


# Plotting and visualizing
plt.scatter(X_train_temp, y_train_temp, label='Data', color='blue')
x = np.linspace(-20,40,100).reshape(-1,1)
plt.plot(x, temp_reg.predict(x), label='Fit', color='red', linewidth=3)
plt.legend()
plt.xlabel('Temp')
plt.ylabel('No. of bikes')
plt.title('Bikes vs Temp')
plt.show()






